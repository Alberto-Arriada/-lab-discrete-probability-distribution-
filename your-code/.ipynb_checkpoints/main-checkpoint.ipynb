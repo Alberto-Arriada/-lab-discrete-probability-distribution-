{
 "cells": [
  {
   "cell_type": "markdown",
   "metadata": {},
   "source": [
    "# Before your start:\n",
    "\n",
    "    Read the README.md file\n",
    "    Comment as much as you can and use the resources (README.md file)\n",
    "    Happy learning!\n",
    "\n",
    "*Notes:* \n",
    "\n",
    "- Solve the questions with python.\n",
    "\n",
    "- Round the final answer to three decimal places."
   ]
  },
  {
   "cell_type": "markdown",
   "metadata": {},
   "source": [
    "## Bernoulli's Distribution\n",
    "\n",
    "In a basket containing 100 fruits, there are 60 apples and 40 oranges. \n",
    "\n",
    "A fruit is picked randomly from the basket. \n",
    "\n",
    "1. **What is the probability that the fruit is apple?**\n",
    "1. **What is the probability that it is an orange?**"
   ]
  },
  {
   "cell_type": "code",
   "execution_count": 2,
   "metadata": {},
   "outputs": [
    {
     "name": "stdout",
     "output_type": "stream",
     "text": [
      "What is the probability that the fruit is apple? The answer is: 60%\n",
      "What is the probability that it is an orange? The answer is: 40%\n"
     ]
    }
   ],
   "source": [
    "import numpy as np\n",
    "import matplotlib.pyplot as plt\n",
    "import seaborn as sns\n",
    "from scipy.stats import bernoulli\n",
    "from scipy.stats import binom\n",
    "sns.set()\n",
    "\n",
    "# your code here\n",
    "fruits=100\n",
    "apples=60\n",
    "oranges=40\n",
    "p = apples/fruits \n",
    "q = oranges/fruits\n",
    "\n",
    "prop_apples1=bernoulli.pmf(k=1,p=p)\n",
    "prop_oranges1= bernoulli.pmf(k=1,p=q)\n",
    "\n",
    "print('What is the probability that the fruit is apple? The answer is: {:.0%}'.format(prop_apples1))\n",
    "print('What is the probability that it is an orange? The answer is: {:.0%}'.format(prop_oranges1))"
   ]
  },
  {
   "cell_type": "markdown",
   "metadata": {},
   "source": [
    "Now we take a random sample of 20 fruits from the basket. After each fruit is taken, a new fruit of the same type is replaced in the basket. Therefore, every time we are taking 1 fruit from 100 fruits. \n",
    "\n",
    "1. **What is the probability that the first 5 fruits are all apples?**\n",
    "\n",
    "1. **What is the probability that the first 5 fruits are all apples and the next 15 fruits are all oranges?**\n",
    "\n",
    "You can include the `p` and `q` probabilities you previous calculated in your solution."
   ]
  },
  {
   "cell_type": "code",
   "execution_count": 3,
   "metadata": {},
   "outputs": [
    {
     "name": "stdout",
     "output_type": "stream",
     "text": [
      "What is the probability that the first 5 fruits are all apples? The answer is: 7.776%\n",
      "What is the probability that the first 5 fruits are all apples and the next 15 fruits are all oranges? The answer is: 0.0000083%\n"
     ]
    }
   ],
   "source": [
    "# your code here\n",
    "prop_apples5=bernoulli.pmf(k=1,p=p)**5\n",
    "#print(prop_apples5)\n",
    "prob_oranges15 = bernoulli.pmf(k=1,p=q)**15\n",
    "#print(prob_oranges15)\n",
    "prop_apporan=prop_apples5*prob_oranges15\n",
    "\n",
    "print('What is the probability that the first 5 fruits are all apples? The answer is: {:.3%}'.format(prop_apples5))\n",
    "print('What is the probability that the first 5 fruits are all apples and the next 15 fruits are all oranges? The answer is: {:.7%}'.format(prop_apporan))"
   ]
  },
  {
   "cell_type": "markdown",
   "metadata": {},
   "source": [
    "## Binomial Distribution\n",
    "\n",
    "Similar to the above problem, this time again we randomly sample 20 fruits.\n",
    "\n",
    "**What is the probability that this time the sample contains 5 apples and 15 oranges?**\n",
    "\n",
    "Please note that this time the order of the fruits being picked does not matter."
   ]
  },
  {
   "cell_type": "code",
   "execution_count": 4,
   "metadata": {},
   "outputs": [
    {
     "name": "stdout",
     "output_type": "stream",
     "text": [
      "What is the probability that this time the sample contains 5 apples and 15 oranges? The answer is: 0.12945%\n"
     ]
    }
   ],
   "source": [
    "# your code here\n",
    "import math\n",
    "num = math.factorial(20)\n",
    "denom = math.factorial(15)*math.factorial(5)\n",
    "NCI = num/denom\n",
    "probability = prop_apporan * NCI\n",
    "print('What is the probability that this time the sample contains 5 apples and 15 oranges? The answer is: {:.5%}'.format(probability))"
   ]
  },
  {
   "cell_type": "markdown",
   "metadata": {},
   "source": [
    "In the lesson we also discussed CDF (cumulative distribution function). In the context of the above problem, **what is the probability that less than 5 fruits picked are apples?**\n",
    "\n",
    "Write the formula and calculate the probability below."
   ]
  },
  {
   "cell_type": "code",
   "execution_count": 5,
   "metadata": {},
   "outputs": [
    {
     "name": "stdout",
     "output_type": "stream",
     "text": [
      "What is the probability that less than 5 fruits picked are apples? The answer is: 0.03170%\n"
     ]
    }
   ],
   "source": [
    "# your code here\n",
    "sample=20\n",
    "p=0.6\n",
    "binomial = binom(sample,p)\n",
    "PMF=binomial.cdf(4)\n",
    "print('What is the probability that less than 5 fruits picked are apples? The answer is: {:.5%}'.format(PMF))"
   ]
  },
  {
   "cell_type": "code",
   "execution_count": 6,
   "metadata": {},
   "outputs": [
    {
     "name": "stdout",
     "output_type": "stream",
     "text": [
      "0.4095999999999999\n"
     ]
    }
   ],
   "source": [
    "TARDE=.20\n",
    "VUELOS=5\n",
    "BINOMIAL= binom(VUELOS,TARDE)\n",
    "CDF2=BINOMIAL.pmf(1)\n",
    "print(CDF2)"
   ]
  },
  {
   "cell_type": "markdown",
   "metadata": {},
   "source": [
    "**Plot the PDF (probability distributiom function) for the above binomial distribution.**\n",
    "\n",
    "*Hint: The range of x in a binomial distribution is from `0` to `n`.*"
   ]
  },
  {
   "cell_type": "code",
   "execution_count": 7,
   "metadata": {},
   "outputs": [
    {
     "name": "stdout",
     "output_type": "stream",
     "text": [
      "Probabilidad [3.65615844e-05 4.87487792e-04 3.08742268e-03 1.23496907e-02\n",
      " 3.49907904e-02 7.46470195e-02 1.24411699e-01 1.65882266e-01\n",
      " 1.79705788e-01 1.59738478e-01 1.17141551e-01 7.09948791e-02\n",
      " 3.54974396e-02 1.45630521e-02 4.85435071e-03 1.29449352e-03\n",
      " 2.69686150e-04 4.23037099e-05 4.70041221e-06 3.29853488e-07\n",
      " 1.09951163e-08]\n"
     ]
    }
   ],
   "source": [
    "# your code here\n",
    "# Please label the axes and give a title to the plot \n",
    "n=20\n",
    "x=range(n+1)\n",
    "prob=binom.pmf(x,n,q)\n",
    "print('Probabilidad',prob) "
   ]
  },
  {
   "cell_type": "code",
   "execution_count": 8,
   "metadata": {},
   "outputs": [
    {
     "data": {
      "image/png": "[encoded data removed]",
      "text/plain": [
       "<Figure size 432x288 with 1 Axes>"
      ]
     },
     "metadata": {},
     "output_type": "display_data"
    }
   ],
   "source": [
    "ax=sns.scatterplot(x,prob)\n",
    "ax.set_ylabel('Probability')\n",
    "ax.set_xlabel('Apples')\n",
    "plt.show()"
   ]
  },
  {
   "cell_type": "markdown",
   "metadata": {},
   "source": [
    "## Poisson Distribution\n",
    "\n",
    "In this challenge you are required to use the Math library in python to solve the problems.\n",
    "\n",
    "In the UEFA champions league tournament, the average number of goals scored in a match is 2.3. \n",
    "\n",
    "**What is the probability that the number of goals scored in a match is 5?**\n",
    "\n",
    "*Hint: Use the exp() in the math library*\n",
    "\n",
    "And to calculate the factorial, you can use the following code:\n",
    "\n",
    "```python\n",
    "import math\n",
    "math.factorial(n) # n is the number you want to find the factorial of\n",
    "```"
   ]
  },
  {
   "cell_type": "code",
   "execution_count": 18,
   "metadata": {},
   "outputs": [
    {
     "name": "stdout",
     "output_type": "stream",
     "text": [
      "What is the probability that the number of goals scored in a match is 5? The answer is: 5.378%\n",
      "What is the probability that the number of goals scored in a match is 5? The answer is: 5.378%\n"
     ]
    }
   ],
   "source": [
    "# your code here \n",
    "from scipy.stats import poisson\n",
    "avg=2.3\n",
    "x = 5\n",
    "prob = ((avg**x)*(math.exp(1)**-avg))/math.factorial(x)\n",
    "\n",
    "prob2=poisson(avg)\n",
    "prob2PMF=prob2.pmf(x)\n",
    "\n",
    "print('What is the probability that the number of goals scored in a match is 5? The answer is: {:.3%}'.format(prob))\n",
    "print('What is the probability that the number of goals scored in a match is 5? The answer is: {:.3%}'.format(prob2PMF))"
   ]
  },
  {
   "cell_type": "markdown",
   "metadata": {},
   "source": [
    "**Draw a poisson probability distribution plot for the number of goals to be between 0 to 10.**"
   ]
  },
  {
   "cell_type": "code",
   "execution_count": 24,
   "metadata": {},
   "outputs": [
    {
     "name": "stdout",
     "output_type": "stream",
     "text": [
      "0.0\n",
      "[2 2 2 3 2 2 1 2 4 2]\n"
     ]
    },
    {
     "data": {
      "text/plain": [
       "Text(0.5, 1.0, 'Poisson distribution')"
      ]
     },
     "execution_count": 24,
     "metadata": {},
     "output_type": "execute_result"
    },
    {
     "data": {
      "image/png": "[encoded data removed]",
      "text/plain": [
       "<Figure size 432x288 with 1 Axes>"
      ]
     },
     "metadata": {},
     "output_type": "display_data"
    }
   ],
   "source": [
    "# your code here\n",
    "# Please label the axes and give a title to the plot \n",
    "\n",
    "print(prob2.pmf(avg))     \n",
    "print(prob2.rvs(10))\n",
    "x = np.arange(0,11)\n",
    "fig, ax = plt.subplots(1, 1)\n",
    "ax.plot(x, poisson.pmf(x, avg), 'bo', ms=8, label='poisson pmf')\n",
    "ax.vlines(x, 0, poisson.pmf(x, avg), colors='r', lw=5, alpha=0.5)\n",
    "ax.set_ylabel ('Probability')\n",
    "ax.set_xlabel ('Number of goals')\n",
    "ax.set_title ('Poisson distribution')"
   ]
  }
 ],
 "metadata": {
  "kernelspec": {
   "display_name": "Python 3",
   "language": "python",
   "name": "python3"
  },
  "language_info": {
   "codemirror_mode": {
    "name": "ipython",
    "version": 3
   },
   "file_extension": ".py",
   "mimetype": "text/x-python",
   "name": "python",
   "nbconvert_exporter": "python",
   "pygments_lexer": "ipython3",
   "version": "3.8.3"
  }
 },
 "nbformat": 4,
 "nbformat_minor": 2
}
